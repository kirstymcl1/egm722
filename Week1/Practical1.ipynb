{
 "cells": [
  {
   "cell_type": "markdown",
   "metadata": {},
   "source": [
    "# EGM722 - Week 1 Practical: Intro to Python\n",
    "\n",
    "## Overview\n",
    "\n",
    "As we discussed in this week's lecture, programming is a powerful tool that allows us to do complicated calculations and analysis, visualize data, and automate workflows to ensure consistency, accuracy, and reproducability in our research. In this practical, you will learn and practice basic commands in python and import modules to complete more complicated tasks. In the weeks to come, you will learn to work with different GIS datasets such as vector (e.g., shapefiles) or raster files using python libraries.\n",
    "\n",
    "\n",
    "## Objectives\n",
    "-  Learn and gain experience with some of the basic elements of python and programming\n",
    "-  Learn how to use the python command line interface\n",
    "-  Practice planning out a script\n",
    "\n",
    "## Data provided\n",
    "\n",
    "In the data\\_files folder, you should have the following:\n",
    "-  GPSPoints.txt\n",
    "-  Glaciers.shp (and associated files)\n",
    "\n",
    "## 1. The python interpreter\n",
    "\n",
    "Before we get started, it's important that we check which verison of python we're running. To do this, we can use the __sys__ module. If you run the following cell, you should see something like this print out:\n",
    "\n",
    "`3.9.16 | packaged by conda-forge | (main, Feb  1 2023, 21:39:03) [GCC 11.3.0]`\n",
    "\n",
    "If you see a version of python other than 3.x, we'll need to switch your working environment."
   ]
  },
  {
   "cell_type": "code",
   "execution_count": null,
   "metadata": {},
   "outputs": [],
   "source": [
    "import sys\n",
    "print(sys.version)"
   ]
  },
  {
   "cell_type": "markdown",
   "metadata": {},
   "source": [
    "Now that we know we're using the right version of python, run the following code snippet:"
   ]
  },
  {
   "cell_type": "code",
   "execution_count": null,
   "metadata": {},
   "outputs": [],
   "source": [
    "print(\"Hello, World!\")"
   ]
  },
  {
   "cell_type": "markdown",
   "metadata": {},
   "source": [
    "The `print()` __function__ allows us to print messages and information to the screen, or to a file (more on this later), but it doesn't allow us to save the messages that we display. \n",
    "\n",
    "How can we edit the code above to store our message as a variable? In the cell below, type a line of code that will define a __variable__, `myString`, that stores our message (`Hello, World!`). Then, print the message to the screen using the __variable__ you've just defined."
   ]
  },
  {
   "cell_type": "code",
   "execution_count": null,
   "metadata": {},
   "outputs": [],
   "source": [
    "# your code goes here to write a command that stores the message as a variable called myString..."
   ]
  },
  {
   "cell_type": "markdown",
   "metadata": {},
   "source": [
    "Often, you will want to know how to use a particular function. To get help, we can use the built-in `help()` function. For example, to get more information on how to use the `print()` function, we could type the following at the prompt:\n",
    "\n",
    "```bash \n",
    ">>> help(print)\n",
    "Help on built-in function print in module builtins:\n",
    "\n",
    "print(...)\n",
    "    print(value, ..., sep=' ', end='\\n', file=sys.stdout, flush=False)\n",
    "    \n",
    "    Prints the values to a stream, or to sys.stdout by default.\n",
    "    Optional keyword arguments:\n",
    "    file:  a file-like object (stream); defaults to the current sys.stdout.\n",
    "    sep:   string inserted between values, default a space.\n",
    "    end:   string appended after the last value, default a newline.\n",
    "    flush: whether to forcibly flush the stream.\n",
    "```\n",
    " \n",
    "Go ahead and try this now:"
   ]
  },
  {
   "cell_type": "code",
   "execution_count": null,
   "metadata": {},
   "outputs": [],
   "source": [
    "help(print)"
   ]
  },
  {
   "cell_type": "markdown",
   "metadata": {},
   "source": [
    "In jupyter/ipython, you can also use the ``?`` operator, which will open the __docstring__ in a new panel at the bottom of the window:"
   ]
  },
  {
   "cell_type": "code",
   "execution_count": null,
   "metadata": {},
   "outputs": [],
   "source": [
    "print?"
   ]
  },
  {
   "cell_type": "markdown",
   "metadata": {},
   "source": [
    "This is a lot of information for now, but if you want to know how to use a particular function, method, or class, you can find that help here. A warning, however: some python packages are better-documented than others (which is why we should always provide thorough documentation when writing our own code, right?)"
   ]
  },
  {
   "cell_type": "markdown",
   "metadata": {},
   "source": [
    "## 2. Variables\n",
    "\n",
    "We have already seen one example of a __variable__, `myString`, above. Remember that in programming, a __variable__ is name that represents or refers to a value. __Variables__ store temporary information that can be manipulated or changed as we type commands or run scripts.\n",
    "\n",
    "In practice, variables can refer to almost anything. As the chosen name suggests, `myString` is a __string__, or text. Variables can also be __int__egers, __float__ing point numbers (floats or decimal numbers), __list__s, __tuple__, __dict__ionaries, entire files, and many more possibilities. \n",
    "\n",
    "As we covered in this week's lecture, in python, variable names can consist of letters, digits, or underscores, but they __cannot__ begin with a digit. If you try to name a __variable__ using an illegal name, you will get a `SyntaxError`:\n",
    "\n",
    "```pytb\n",
    ">>> 3var = \"this won't work\"\n",
    "  Cell In[5], line 1\n",
    "    3var = 'this won't work'\n",
    "     ^\n",
    "SyntaxError: invalid syntax\n",
    "```\n",
    "\n",
    "To confirm this, try it for yourself below:"
   ]
  },
  {
   "cell_type": "code",
   "execution_count": null,
   "metadata": {},
   "outputs": [],
   "source": [
    "3var = \"this won't work\""
   ]
  },
  {
   "cell_type": "markdown",
   "metadata": {},
   "source": [
    "## 3. Numeric operations\n",
    "\n",
    "A large part of what we will use python for is the manipulation of numeric data. Thus, it is a good idea for us to understand how python treats numeric data. One by one, type the following expressions into the cell below. Before running the cell, be sure to think about what you expect the result to be. Does the result you see match your expectation? Why or why not?\n",
    "-  `19 + 32 # the + operator does addition`\n",
    "-  `19 - 87 # the - operator does subtraction`\n",
    "-  `19 * 12 # the * operator does multiplication`\n",
    "-  `1 / 3   # the / operator does division`\n",
    "-  `1 // 3  # the // operator does floor division`\n",
    "-  `10 % 3  # the % operator does modular arithmetic`\n",
    "-  `2 ^ 4` \n",
    "-  `2 ** 4  # the ** operator does exponentiation`\n",
    "\n",
    "Can you explain what the second-to-last operator (the ^ symbol) is doing?"
   ]
  },
  {
   "cell_type": "code",
   "execution_count": null,
   "metadata": {},
   "outputs": [],
   "source": []
  },
  {
   "cell_type": "markdown",
   "metadata": {},
   "source": [
    "## 4. String variables and operations\n",
    "\n",
    "We have already worked with one example of a **str**ing variable, `myString`. \n",
    "\n",
    "As noted in the lecture, we can easily access parts of a string by using the desired index inside square brackets `[ ]`. Remember that the index has to be an **int**eger value:"
   ]
  },
  {
   "cell_type": "code",
   "execution_count": null,
   "metadata": {},
   "outputs": [],
   "source": [
    "myString[0]"
   ]
  },
  {
   "cell_type": "markdown",
   "metadata": {},
   "source": [
    "If we use a **float**ing point value, it raises a `TypeError`:"
   ]
  },
  {
   "cell_type": "code",
   "execution_count": null,
   "metadata": {},
   "outputs": [],
   "source": [
    "myString[0.0] # slice indices have to be integers, not floats!"
   ]
  },
  {
   "cell_type": "markdown",
   "metadata": {},
   "source": [
    "As an additional example, to get the 3rd character in `myString`, we would type `myString[2]` at the prompt and press ENTER:"
   ]
  },
  {
   "cell_type": "code",
   "execution_count": null,
   "metadata": {},
   "outputs": [],
   "source": [
    "myString[2] # get the 3rd character in myString"
   ]
  },
  {
   "cell_type": "markdown",
   "metadata": {},
   "source": [
    "Why does this give us the third character from `myString`? Well, remember that the first element of a __str__ (or any sequence; more on that later) has an index of 0. \n",
    "\n",
    "To access the last element of a __str__ (or a sequence), we could count up all of the elements of the __str__ and subtract one (remember that we start counting at 0, not 1), but python gives us an easier way: __negative indexing__. \n",
    "\n",
    "Thus, to get the last element of `myString`, we can type `myString[-1]`. To get the second-to-last element, we could type `myString[-2]`, and so on."
   ]
  },
  {
   "cell_type": "code",
   "execution_count": null,
   "metadata": {},
   "outputs": [],
   "source": [
    "myString[-1] # get the last character in myString"
   ]
  },
  {
   "cell_type": "markdown",
   "metadata": {},
   "source": [
    "If we want to access more than one element of the string, we can use multiple indices, with the basic form of:\n",
    "\n",
    "```python3\n",
    ">>> sliced = myString[first:last]\n",
    "```\n",
    "\n",
    "This will select the letters of the string starting at index `first` up to, __but not including__, `last`.\n",
    "\n",
    "This is also called __slicing__. What does the command `myString[1:5]` return?"
   ]
  },
  {
   "cell_type": "code",
   "execution_count": null,
   "metadata": {},
   "outputs": [],
   "source": [
    "myString[1:5]"
   ]
  },
  {
   "cell_type": "markdown",
   "metadata": {},
   "source": [
    "If we want to find an element in a string, we can use the helpfully-named built-in function (or method) `find()`. For example, typing myString.find(’W’) will return the index of the letter ’W’. What happens if the given letter (or substring) isn't found in the string? Remember to use the `help()` function if you get stuck."
   ]
  },
  {
   "cell_type": "code",
   "execution_count": null,
   "metadata": {},
   "outputs": [],
   "source": [
    "myString.find('W') # find the index of the character W in myString"
   ]
  },
  {
   "cell_type": "markdown",
   "metadata": {},
   "source": [
    "Finally, although we can’t subtract or divide strings, we do have two operators at our disposal: `+` (concatenation) and `*` (repeated concatenation). \n",
    "\n",
    "Before running the cell below, what do you expect will be stored in each variable below? Does the result match what you expected?\n",
    "\n",
    "-  `newString = \"Hello\" + \"World!\"`\n",
    "-  `repString = \"Hello\" * 5`"
   ]
  },
  {
   "cell_type": "code",
   "execution_count": null,
   "metadata": {},
   "outputs": [],
   "source": [
    "newString = \"Hello\" + \"World!\"\n",
    "repString = \"Hello\" * 5\n",
    "\n",
    "print('newString is: ', newString)\n",
    "print('repString is: ', repString)"
   ]
  },
  {
   "cell_type": "markdown",
   "metadata": {},
   "source": [
    "## 5. Lists\n",
    "\n",
    "**list**s are an incredibly powerful and versatile data type we can use in python to store a sequence of values. \n",
    "\n",
    "Any other data type can be inserted into a __list__, including other **list**s. Run the following cell to see how we can create a new __list__ object:"
   ]
  },
  {
   "cell_type": "code",
   "execution_count": null,
   "metadata": {},
   "outputs": [],
   "source": [
    "fruits = [\"Apple\", \"Banana\", \"Melon\", \"Grapes\", \"Raspberries\"]\n",
    "print(fruits)"
   ]
  },
  {
   "cell_type": "markdown",
   "metadata": {},
   "source": [
    "Like with __str__ objects, we can access and manipulate __list__ objects using indexing and slicing techniques, in much the same way.\n",
    "\n",
    "Can you write a command below to `print()` 'Grapes' by using the corresponding index from the __list__?"
   ]
  },
  {
   "cell_type": "code",
   "execution_count": null,
   "metadata": {},
   "outputs": [],
   "source": [
    "print() #insert the correct command inside the ()"
   ]
  },
  {
   "cell_type": "markdown",
   "metadata": {},
   "source": [
    "If we want to access more than one element of a list, we can slice the list, using the same syntax as with the `myString` examples above.\n",
    "\n",
    "What do you think will print if you type `print fruits[2:-1]` in the cell below? \n",
    "\n",
    "What about `print(fruits[2:-1][0])`? `print(fruits[2:-1][0][4])`? Try it and see!\n",
    "\n",
    "__NB!__ while indexing a list returns the value of a single element, a list slice is itself a list. This difference is subtle, but important to remember."
   ]
  },
  {
   "cell_type": "code",
   "execution_count": null,
   "metadata": {},
   "outputs": [],
   "source": [
    "print(fruits[2:-1]) # what does this operation return?\n",
    "print(fruits[2:-1][0]) # what about this one?\n",
    "print(fruits[2:-1][0][4]) # and this one?"
   ]
  },
  {
   "cell_type": "markdown",
   "metadata": {},
   "source": [
    "## 6. Classes, functions and methods\n",
    "\n",
    "In programming, a __function__ is essentially a short program that we can use to perform a specific action. \n",
    "\n",
    "Functions take in __parameters__ in the form of __arguments__, and (often, but not always) return a result, or otherwise perform an action. \n",
    "\n",
    "Parameters can be __positional__ (in other words, the order they are given matters), or they can be __keyword__ (i.e., you specify the argument with the parameter name, in the form `parameter=value`). \n",
    "\n",
    "Python has a number of built-in functions for us to use. For example, instead of typing `2 ** 8` earlier, we could instead have typed __pow(2,8)__:"
   ]
  },
  {
   "cell_type": "code",
   "execution_count": null,
   "metadata": {},
   "outputs": [],
   "source": [
    "print('using the ** operator: {}'.format(2**8))\n",
    "print('using the pow() function: {}'.format(pow(2, 8)))"
   ]
  },
  {
   "cell_type": "markdown",
   "metadata": {},
   "source": [
    "Here, we are calling the function `pow()` and supplying the __positional__ arguments `2` and `8`. \n",
    "The result returned is the same, `256` (or 2<sup>8</sup>), but the approach used is different. \n",
    "\n",
    "If you want to see a list of __built-in__ functions and classes in python, you can type `print(dir(__builtins__))` (note the two underscores on either side of __builtins__):\n",
    "\n",
    "```python3\n",
    ">>> print(dir(__builtins__))\n",
    "['ArithmeticError', 'AssertionError', 'AttributeError', 'BaseException', 'BlockingIOError', 'BrokenPipeError', 'BufferError', 'BytesWarning', 'ChildProcessError', 'ConnectionAbortedError', 'ConnectionError', 'ConnectionRefusedError', 'ConnectionResetError', 'DeprecationWarning', 'EOFError', 'Ellipsis', 'EnvironmentError', 'Exception', 'False', 'FileExistsError', 'FileNotFoundError', 'FloatingPointError', 'FutureWarning', 'GeneratorExit', 'IOError', 'ImportError', 'ImportWarning', 'IndentationError', 'IndexError', 'InterruptedError', 'IsADirectoryError', 'KeyError', 'KeyboardInterrupt', 'LookupError', 'MemoryError', 'ModuleNotFoundError', 'NameError', 'None', 'NotADirectoryError', 'NotImplemented', 'NotImplementedError', 'OSError', 'OverflowError', 'PendingDeprecationWarning', 'PermissionError', 'ProcessLookupError', 'RecursionError', 'ReferenceError', 'ResourceWarning', 'RuntimeError', 'RuntimeWarning', 'StopAsyncIteration', 'StopIteration', 'SyntaxError', 'SyntaxWarning', 'SystemError', 'SystemExit', 'TabError', 'TimeoutError', 'True', 'TypeError', 'UnboundLocalError', 'UnicodeDecodeError', 'UnicodeEncodeError', 'UnicodeError', 'UnicodeTranslateError', 'UnicodeWarning', 'UserWarning', 'ValueError', 'Warning', 'ZeroDivisionError', '_', '__build_class__', '__debug__', '__doc__', '__import__', '__loader__', '__name__', '__package__', '__spec__', 'abs', 'all', 'any', 'ascii', 'bin', 'bool', 'breakpoint', 'bytearray', 'bytes', 'callable', 'chr', 'classmethod', 'compile', 'complex', 'copyright', 'credits', 'delattr', 'dict', 'dir', 'divmod', 'enumerate', 'eval', 'exec', 'exit', 'filter', 'float', 'format', 'frozenset', 'getattr', 'globals', 'hasattr', 'hash', 'help', 'hex', 'id', 'input', 'int', 'isinstance', 'issubclass', 'iter', 'len', 'license', 'list', 'locals', 'map', 'max', 'memoryview', 'min', 'next', 'object', 'oct', 'open', 'ord', 'pow', 'print', 'property', 'quit', 'range', 'repr', 'reversed', 'round', 'set', 'setattr', 'slice', 'sorted', 'staticmethod', 'str', 'sum', 'super', 'tuple', 'type', 'vars', 'zip']\n",
    "```\n",
    "\n",
    "While it may not be completely clear at first what each of these things are, remember that we can use the `help()` __function__ to get more information. \n",
    "\n",
    "For example, one very useful built-in __class__ is `range` ([documentation](https://docs.python.org/3/library/stdtypes.html#range)).\n",
    "\n",
    "To create a new __range__ object, we call it like we would a function:\n",
    "\n",
    "```python3\n",
    "range(stop)\n",
    "range([start,] stop [,step])\n",
    "```\n",
    "\n",
    "\"Under the hood\", so to speak, remember that this is actually calling the **\\_\\_init\\_\\_()** method of the __class__, which is the __function__ that python uses to _initialize_, or create, a new object.\n",
    "\n",
    "Note that __range()__ takes between one and three arguments:\n",
    "\n",
    "* `range(stop)` creates a __range__ object that will \"count\" from 0 up to (__but not including__) `stop`, incrementing by 1.\n",
    "* `range(start, stop)` creates a __range__ object that will \"count\" from `start` up to (__but not including__) `stop`, incrementing by 1.\n",
    "* `range(start, stop, step)` creates a __range__ object that will \"count\" from `start` to (__but not including__) `stop`, incrementing by `step`.\n",
    "\n",
    "To pass multiple parameters to a function, we separate each parameter by a comma. \n",
    "\n",
    "In the cell below, write a statement that returns a list of numbers counting from a `start` of 10 to 0 (inclusive)."
   ]
  },
  {
   "cell_type": "code",
   "execution_count": null,
   "metadata": {},
   "outputs": [],
   "source": [
    "for ii in range(start, stop, step): # modify this to print out a list of numbers 10, 9, 8, ... 0.\n",
    "    print(ii)"
   ]
  },
  {
   "cell_type": "markdown",
   "metadata": {},
   "source": [
    "A __method__ is a type of __function__ that acts directly on an object.\n",
    "\n",
    "In general, methods are called just like functions - the general syntax is `object.method(arguments)`. \n",
    "\n",
    "For example, __str__ objects have a __method__, `str.count()`, which counts the number of times a character (or substring) occurs in the __str__. \n",
    "\n",
    "If you type `topic = \"Geographic Information Systems\"` into the interpreter, what would you expect the result of `topic.count(\"i\")` to be? What about topic.count(\"s\")?"
   ]
  },
  {
   "cell_type": "code",
   "execution_count": null,
   "metadata": {},
   "outputs": [],
   "source": [
    "topic = \"Geographic Information Systems\"\n",
    "print(topic.count(\"i\"))\n",
    "print(topic.count(\"s\"))"
   ]
  },
  {
   "cell_type": "markdown",
   "metadata": {},
   "source": [
    "Another powerful __str__ method is `str.split()`, which returns a __list__ of the given __str__, split into substrings based on the delimeter provided as an argument:\n",
    "\n",
    "```python3\n",
    ">>> help(str.split)\n",
    "\n",
    "split(self, /, sep=None, maxsplit=-1)\n",
    "    Return a list of the words in the string, using sep as the delimiter string.\n",
    "    \n",
    "    sep\n",
    "      The delimiter according which to split the string.\n",
    "      None (the default value) means split according to any whitespace,\n",
    "      and discard empty strings from the result.\n",
    "    maxsplit\n",
    "      Maximum number of splits to do.\n",
    "      -1 (the default value) means no limit.\n",
    "```\n",
    "\n",
    "From this, we can see that if we call `topic.split()` without any arguments at all, it will split `topic` based on any whitespace and discard any _empty_ strings. That is, if we have multiple spaces in our string, it will treat those as a single space:"
   ]
  },
  {
   "cell_type": "code",
   "execution_count": null,
   "metadata": {},
   "outputs": [],
   "source": [
    "singlespace = 'Geographic Information Systems'\n",
    "multispace = 'Geographic   Information  Systems'\n",
    "\n",
    "print(singlespace.split())\n",
    "print(multispace.split())"
   ]
  },
  {
   "cell_type": "markdown",
   "metadata": {},
   "source": [
    "If we want to specify a single space character (`' '`), though, the result will change:"
   ]
  },
  {
   "cell_type": "code",
   "execution_count": null,
   "metadata": {},
   "outputs": [],
   "source": [
    "singlespace.split(' ')\n",
    "multispace.split(' ')"
   ]
  },
  {
   "cell_type": "markdown",
   "metadata": {},
   "source": [
    "Using `str.split()` and an additional method to change all of the letters in the __str__ to _lower_\\ -case, can you get the following result in the cell below?\n",
    "\n",
    "```python3\n",
    ">>> topic = 'Remote Sensing and Geographic Information Systems'\n",
    ">>> # something else goes here\n",
    ">>> print(topic.split('s'))\n",
    "['Remote Sen', 'ing and Geographic Information Sy', 'tem', '']\n",
    "```"
   ]
  },
  {
   "cell_type": "code",
   "execution_count": null,
   "metadata": {},
   "outputs": [],
   "source": [
    "topic = 'Remote Sensing and Geographic Information Systems'\n",
    "# something else goes here\n",
    "print(topic.split('s'))"
   ]
  },
  {
   "cell_type": "markdown",
   "metadata": {},
   "source": [
    "## 6.1 Defining our own functions\n",
    "\n",
    "Often, we will want to define our own **function**s. Using functions has many benefits, including:\n",
    "* improving readability,\n",
    "* eliminating repetitive code,\n",
    "* allowing for easier debugging of a program,\n",
    "* and even allowing us to re-use code in other scripts/programs.\n",
    "\n",
    "Defining a __function__ in python is quite easy. \n",
    "\n",
    "We begin the definition with a `def` __statement__ that includes the function name and all parameters (this first line is called the __header__). The header must end with a colon (`:`):\n",
    "\n",
    "```python3\n",
    "def cat_twice(str1, str2):\n",
    "```\n",
    "\n",
    "The __body__ of the function (i.e., the set of instructions that make up the function) are _indented_ - like other forms of flow control in python, once the interpreter sees a non-indented line, it marks the end of the function:\n",
    "\n",
    "```python3\n",
    "def cat_twice(str1, str2):\n",
    "   cat = str1 + str2\n",
    "   print(cat) # this is part of the function\n",
    "   print(cat) # this is part of the function\n",
    "\n",
    "# this is no longer part of the function\n",
    "```\n",
    "\n",
    "Let's say that we want to define a function to __concatenate__ (add together) two strings, and print the resulting string two times:"
   ]
  },
  {
   "cell_type": "code",
   "execution_count": null,
   "metadata": {},
   "outputs": [],
   "source": [
    "def cat_twice(str1, str2):\n",
    "    cat = str1 + str2\n",
    "    print(cat)\n",
    "    print(cat)"
   ]
  },
  {
   "cell_type": "markdown",
   "metadata": {},
   "source": [
    "That's it. Simple, right? Now, we can use our function by calling it like any other function:"
   ]
  },
  {
   "cell_type": "code",
   "execution_count": null,
   "metadata": {},
   "outputs": [],
   "source": [
    "cat_twice('bing tiddle ', 'tiddle bing')"
   ]
  },
  {
   "cell_type": "markdown",
   "metadata": {},
   "source": [
    "Notice that our function doesn't return anything, however - it just prints to the screen. Functions like this that don't return any a value are called __void__ functions. To see what happens if we try to assign the result of such a function, run the cell below:"
   ]
  },
  {
   "cell_type": "code",
   "execution_count": null,
   "metadata": {},
   "outputs": [],
   "source": [
    "result = cat_twice('bing tiddle ', 'tiddle bing')\n",
    "print(result)"
   ]
  },
  {
   "cell_type": "markdown",
   "metadata": {},
   "source": [
    "If we want to return something from a function, we use a `return` __statement__, followed by the variable(s) that we want to return:\n",
    "\n",
    "```python\n",
    "def cat_twice_return(str1, str2):\n",
    "    cat = str1 + str2\n",
    "    print(cat)\n",
    "    print(cat)\n",
    "    return cat\n",
    "```\n",
    "\n",
    "Using what you have learned about functions, define your own function below to split a string on a given character (letter), regardless of whether that character in the original string is upper or lowercase:"
   ]
  },
  {
   "cell_type": "code",
   "execution_count": null,
   "metadata": {},
   "outputs": [],
   "source": [
    "def special_split(string, sep): \n",
    "    # so the two parameters our function will use are string, \n",
    "    # the string to split, and sep, the character to split on.\n",
    "    pass # replace this line with the body of your function\n",
    "\n",
    "topic = 'Remote Sensing and Geographic Information Systems'\n",
    "my_split = special_split(topic, 's')\n",
    "print(my_split)"
   ]
  },
  {
   "cell_type": "markdown",
   "metadata": {},
   "source": [
    "# 7. Controlling Flow\n",
    "\n",
    "Some of the most important uses that we'll have for programming are repeating tasks and executing different code based on some condition. For example, we might want to loop through a list of files and run a series of commands on each file, or apply an analysis only if the right conditions are met. \n",
    "\n",
    "In python, we can use the `while`, `for`, and `if` operators to control the flow of our programs. For example, given a number, we might want to check whether the value is positive, negative, or zero, and perform a different action based on which condition is `True`:"
   ]
  },
  {
   "cell_type": "code",
   "execution_count": null,
   "metadata": {},
   "outputs": [],
   "source": [
    "def pos_neg_zero(x):\n",
    "    if x > 0:\n",
    "        print('{} is a positive number'.format(x))\n",
    "    elif x < 0:\n",
    "        print('{} is a negative number'.format(x))\n",
    "    else:\n",
    "        print('{} is zero'.format(x))"
   ]
  },
  {
   "cell_type": "markdown",
   "metadata": {},
   "source": [
    "Here, we take in a number, `x`, and execute code based on whether `x` is positive, negative, or zero.\n",
    "\n",
    "Note that in the following:\n",
    "\n",
    "```python3\n",
    "print('{} is a positive number'.format(x))\n",
    "```\n",
    "we are using the `str.format()` method ([documentation](https://docs.python.org/3/tutorial/inputoutput.html#the-string-format-method)) to insert the value of `x` into the `str` where the curly brackets (`{ }`) are, before printing it to the screen:\n",
    "\n",
    "```python3\n",
    ">>> x = 2\n",
    ">>> print('{} is a positive number'.format(x))\n",
    "2 is a positive number\n",
    "```\n",
    "\n",
    "We can use this to insert as many values into our `str` as we like, so long as there are the same number of `{ }` available:\n",
    "\n",
    "```python3\n",
    ">>> y = 3\n",
    ">>> print('{} is larger than {}`.format(y, x))\n",
    "3 is larger than 2\n",
    "```\n",
    "Note also that the order matters - the first argument to `str.format()` goes into the first `{}`, the second argument into the second `{}`, and so on. We'll use this a bit more later to `print()` nicely-formatted numeric results, as well.\n",
    "\n",
    "Anyway, back to `if`/`elif`/`else` statements.\n",
    "\n",
    "Like the header of a function, an `if` __statement__ has to be terminated with a colon (`:`). \n",
    "\n",
    "If we have multiple options, we can use an `elif` __statement__. There isn't a limit to the number of `elif` statements we can use, but note that the order matters - once a condition is evaluated as `True`, the indented code is executed and the whole block is exited. \n",
    "\n",
    "For this reason, an `else` __statement__ is optional, but it must always be last (since it automatically evaluates as `True`).\n",
    "\n",
    "In the cell below, write a function to compare two numbers, `x` and `y`, and `print()` a statement based on the comparison (including the possibility that they are equal)."
   ]
  },
  {
   "cell_type": "code",
   "execution_count": null,
   "metadata": {},
   "outputs": [],
   "source": [
    "def which_is_greater(x, y):\n",
    "    pass # replace this line with your code"
   ]
  },
  {
   "cell_type": "markdown",
   "metadata": {},
   "source": [
    "In addition to conditional flow, we might also want to repeat actions. For example, we can write a simple function that counts down to some event, then announces the arrival of that event. We could define this function using a `while` loop, making sure to update a variable in each step:"
   ]
  },
  {
   "cell_type": "code",
   "execution_count": null,
   "metadata": {},
   "outputs": [],
   "source": [
    "def countdown(n):\n",
    "    while n > 0:\n",
    "        print(n)\n",
    "        n -= 1 # note that this is the same as n = n - 1\n",
    "    print(\"Blastoff!\")\n",
    "    \n",
    "countdown(5)"
   ]
  },
  {
   "cell_type": "markdown",
   "metadata": {},
   "source": [
    "Note the importance of updating the variable that we are testing in the loop. If we remove the `n -= 1` line, our function will never stop running (an __infinite loop__). \n",
    "\n",
    "`while` loops are useful for actions without a pre-defined number of repetitions. We could just as easily re-define `countdown()` using a `for` loop, using something else we've seen before:\n",
    "\n",
    "```python\n",
    "def countdown_for(n):\n",
    "    for ii in range(n, 0, -1):\n",
    "        print(ii)\n",
    "    print(\"Blastoff!\")\n",
    "```\n",
    "\n",
    "This version uses `range` to iterate from `n` to 1 in increments of -1, printing the value of `i` each time - that is, we leave `n` unchanged. \n",
    "\n",
    "We can also use the `break` and `continue` statements to __break__ out of a loop, or to __continue__ to the next step of a loop:\n",
    "\n",
    "```python\n",
    "def break_example(n):\n",
    "    # prints values from n to 1, then Blastoff!\n",
    "    while True:  # here, the loop will always run\n",
    "    # unless we reach a condition \n",
    "    # that breaks out of it:\n",
    "        if n <= 0:\n",
    "            break\n",
    "        print(n)\n",
    "        n -= 1\n",
    "    print(\"Blastoff!\")\n",
    "\n",
    "def continue_example(n):\n",
    "    # given an integer, n, prints the values from 0 to n that are even.\n",
    "    for x in range(n):\n",
    "        if x % 2 == 1:\n",
    "            continue\n",
    "        print('{} is even'.format(x))\n",
    "```\n",
    "\n",
    "In the cell below, write a function to print the even values from 1 to n, unless the value is divisible by 3 or 4."
   ]
  },
  {
   "cell_type": "code",
   "execution_count": null,
   "metadata": {},
   "outputs": [],
   "source": [
    "def evenNoThreesorFours(n):\n",
    "    # given an integer n, prints values from 1 to n that are even, unless they are divisible by 3 or 4.\n",
    "    for x in range(1, n):\n",
    "        pass # your code goes here"
   ]
  },
  {
   "cell_type": "markdown",
   "metadata": {},
   "source": [
    "(_Hint: you can use the `%` operator to determine whether one number is divisble by another_)."
   ]
  },
  {
   "cell_type": "markdown",
   "metadata": {},
   "source": [
    "# 8. Importing modules\n",
    "\n",
    "Modules provide a convenient way to package functions and object classes, and load these items when needed. This also means that we only end up loading the functionality that we need, which helps save on memory and other resources. \n",
    "\n",
    "We have already imported one such module, the `sys` module. Another useful module to use is the `math` module, which provides much more than the built-in operators we explored earlier. Run the following cell: "
   ]
  },
  {
   "cell_type": "code",
   "execution_count": null,
   "metadata": {},
   "outputs": [],
   "source": [
    "import math\n",
    "from math import pi\n",
    "\n",
    "print('math.pi is equal to: {}'.format(math.pi))\n",
    "print('pi is equal to:      {}'.format(pi))\n",
    "\n",
    "h1 = math.floor(10.19)\n",
    "print('math.floor(10.19) is equal to: {}'.format(h1))\n",
    "\n",
    "h2 = floor(10.19)\n",
    "print('floor(10.19) is equal to:      {}'.format(h2))"
   ]
  },
  {
   "cell_type": "markdown",
   "metadata": {},
   "source": [
    "There are a few things to pay attention to here. First, notice that the syntax for calling functions from a module is the same as calling a method: `module.function(arguments)`. \n",
    "\n",
    "You should also notice that we can __import__ a whole module (`import math`) or __import__ an attribute, class, or function from a module (`from math import pi`). \n",
    "\n",
    "When we specifically name the things we want to import, we only have access to those things - importing `pi` from `math` does not also import `floor` - hence, the error message. \n",
    "\n",
    "It is also possible to __import__ all of the functions and classes from a given module (`from math import *`), but this is not really recommended - why do you think this is?\n",
    "\n",
    "Modify the cell above to __import__ both `floor` and `pi` from `math`, and run the cell again. Remember that to __import__ multiple things from a single module, you can separate them by commas:\n",
    "\n",
    "```python\n",
    "from math import sin, cos, tan\n",
    "```\n",
    "\n",
    "Notice also that __math.pi__ is not a __method__, but an __attribute__. You can check this for yourself by typing `math.pi()` into the interpreter and seeing the result."
   ]
  },
  {
   "cell_type": "markdown",
   "metadata": {},
   "source": [
    "# 9. Working with shapefiles\n",
    "\n",
    "When using vector data in this course, we will primarily work with `geopandas` ([documentation](http://geopandas.org/)), \"an open source project to make working with geospatial data in python easier.\" \n",
    "\n",
    "To work with the provided shapefile (`data_files/Glaciers.shp`), we first have to __import__ `geopandas` and load the data using `geopandas.read_file()`:"
   ]
  },
  {
   "cell_type": "code",
   "execution_count": null,
   "metadata": {},
   "outputs": [],
   "source": [
    "import geopandas as gpd\n",
    "glacier_data = gpd.read_file('data_files/Glaciers.shp')"
   ]
  },
  {
   "cell_type": "markdown",
   "metadata": {},
   "source": [
    "Note that in the cell above, we're using an _alias_ when we __import__ `geopandas`:\n",
    "\n",
    "```python\n",
    "import geopandas as gpd\n",
    "```\n",
    "\n",
    "This means that instead of having to write `geopandas` every time we want to use a __method__ or __class__ from the `geopandas` package, we instead type `gpd`. You will most likely see this syntax a lot - it's mostly used to make the code easier to read (or out of laziness)."
   ]
  },
  {
   "cell_type": "markdown",
   "metadata": {},
   "source": [
    "## 9.1 a note on filepaths\n",
    "\n",
    "On Windows computers, filepaths are separated using `\\`. For example, on my Windows machine, this notebook file has the following path:\n",
    "\n",
    "```\n",
    "C:\\Users\\bob\\egm722\\Week1\\Practical1.ipynb\n",
    "```\n",
    "\n",
    "This is a problem in python, because `\\` is a protected character -- specifically, it's either used as a line continuation to split a string over multiple lines:\n",
    "\n",
    "```python3\n",
    ">>> mystring = 'this is a string that is split ' + \\\n",
    "...            'over multiple lines'\n",
    ">>> print(mystring)\n",
    "this is a string that is split over multiple lines\n",
    "```\n",
    "\n",
    "Inside of a string, `\\` _escapes_ the next character - effectively, it makes the interpreter change how it processes it:\n",
    "\n",
    "```python3\n",
    ">>> not_escaped = 'this isn't going to work'\n",
    "  File \"<stdin>\", line 1\n",
    "    not_escaped = 'this isn't going to work'\n",
    "                            ^\n",
    "SyntaxError: invalid syntax\n",
    "```\n",
    "\n",
    "In the example above, the single quote in \"isn't\" actually ends the __str__ - because mashing a string (`'this isn'`) and something else (`t going to work'`) doesn't work, python raises a `SyntaxError`.\n",
    "\n",
    "But, we can use `\\` to make python see that the single quote in the middle of the __str__ should be treated as part of the __str__:\n",
    "\n",
    "```python3\n",
    ">>> escaped = 'this isn\\'t going to cause a problem.'\n",
    ">>> print(escaped)\n",
    "this isn't going to cause a problem.\n",
    "```\n",
    "\n",
    "What this means is that when we're working with Windows paths in python, we have to do something competely different. When writing paths as __str__ objects, there are three main options:\n",
    "\n",
    "1. replace `\\` with `/`: `C:/Users/bob/egm722/Week1/Practical1.ipynb`\n",
    "2. _escape_ the `\\` chracter: `C:\\\\Users\\\\bob\\\\egm722\\\\Week1\\\\Practical1.ipynb`\n",
    "3. use a __raw string literal__ by appending `r` before the start of the __str__: `r'C:\\Users\\bob\\egm722\\Week1\\Practical1.ipynb'`\n",
    "\n",
    "Option 1. has the advantage of working on multiple platforms. As an example, the _relative_ path:\n",
    "\n",
    "```python\n",
    "'data_files/Glaciers.shp'\n",
    "```\n",
    "\n",
    "will work on Windows, MacOS, and linux systems. Later in this module, we will see how we can use the `os` module to work with filepaths; if we're using python 3.4 or newer, the [`pathlib`](https://docs.python.org/3/library/pathlib.html) module provides an even nicer way of working with filepaths.\n",
    "\n",
    "\n",
    "## 9.2 working with GeoDataFrames"
   ]
  },
  {
   "cell_type": "markdown",
   "metadata": {},
   "source": [
    "Back to working with shapefile data."
   ]
  },
  {
   "cell_type": "code",
   "execution_count": null,
   "metadata": {},
   "outputs": [],
   "source": [
    "print(glacier_data.head())"
   ]
  },
  {
   "cell_type": "markdown",
   "metadata": {},
   "source": [
    "Note that the data are stored in a table (a __GeoDataFrame__), much like the attribute table in ArcMap. One small difference is the additional column, `geometry`, which stores the geometry for each feature (in this case, a `polygon`). \n",
    "\n",
    "One thing that we might be interested in, is the number of features stored in our dataset. Within a script, the best way to do this is by using the `shape` of the __GeoDataFrame__, which prints out the size of the __GeoDataFrame__ in (rows, columns):"
   ]
  },
  {
   "cell_type": "code",
   "execution_count": null,
   "metadata": {},
   "outputs": [],
   "source": [
    "rows, cols = glacier_data.shape # get the number of rows, columns in the table\n",
    "print('Number of features: {}'.format(rows))"
   ]
  },
  {
   "cell_type": "markdown",
   "metadata": {},
   "source": [
    "We can also perform calculations on the data, get statistics, etc. Many of these are built-in methods that can be called on an individual column. \n",
    "\n",
    "We can access individual columns in two ways. We'll stick with the \"normal\" way for now, but we'll revisit the other method later on in another lab. The normal way is by indexing with the column name (i.e., `dataframe['column_name']`). \n",
    "\n",
    "If we want to see what columns are available in the data table, we can look at the `columns` __attribute__ of the table:"
   ]
  },
  {
   "cell_type": "code",
   "execution_count": null,
   "metadata": {},
   "outputs": [],
   "source": [
    "glacier_data.columns"
   ]
  },
  {
   "cell_type": "markdown",
   "metadata": {},
   "source": [
    "There are quite a few columns here, and most of them aren't so important for now. We might be interested in working with the __AREA__ column, though, to find out more about the size of glaciers in our study region. For example, to find the average glacier area in our dataset, we could type the following:"
   ]
  },
  {
   "cell_type": "code",
   "execution_count": null,
   "metadata": {},
   "outputs": [],
   "source": [
    "glacier_data['AREA'].mean()"
   ]
  },
  {
   "cell_type": "markdown",
   "metadata": {},
   "source": [
    "This gives us the average area in square kilometers (the units of the column). What if, for some unfathomable reason, we wanted the glacier areas to be stored in square feet? We could do this by updating the column directly:"
   ]
  },
  {
   "cell_type": "code",
   "execution_count": null,
   "metadata": {},
   "outputs": [],
   "source": [
    "glacier_data['AREA'] = glacier_data['AREA'] * 1e6 * 3.2808399 * 3.2808399 # km2 x m2/km2 X ft/m x ft/m\n",
    "glacier_data['AREA'].mean()"
   ]
  },
  {
   "cell_type": "markdown",
   "metadata": {},
   "source": [
    "But, just in case we didn't want to lose the sensible units, we could also have created a new column:"
   ]
  },
  {
   "cell_type": "code",
   "execution_count": null,
   "metadata": {},
   "outputs": [],
   "source": [
    "glacier_data['AREA_SQKM'] = glacier_data['AREA'] / 1e6 / 3.2808399 / 3.2808399  # the reverse of the above\n",
    "glacier_data['AREA_SQKM'].mean()"
   ]
  },
  {
   "cell_type": "markdown",
   "metadata": {},
   "source": [
    "# 10. Example - converting text data into shapefiles\n",
    "\n",
    "Another useful application we'll make use of is `pandas` ([documentation](https://pandas.pydata.org/)), a powerful data analysis package that provides the basis for `geopandas` (as you perhaps guessed by the name). In this example, we'll take a Comma Separated Value (__CSV__) file representing data about lakes from around the world, and convert this into a shapefile that we can load into ArcGIS, QGIS, or other GIS software.\n",
    "\n",
    "First, let's import the necessary modules and load the data:"
   ]
  },
  {
   "cell_type": "code",
   "execution_count": null,
   "metadata": {},
   "outputs": [],
   "source": [
    "import pandas as pd\n",
    "import geopandas as gpd\n",
    "from shapely.geometry import Point\n",
    "\n",
    "df = pd.read_csv('data_files/GPSPoints.txt')"
   ]
  },
  {
   "cell_type": "markdown",
   "metadata": {},
   "source": [
    "Like we did with the `geopandas` data above, let's have a look at the `DataFrame` we've just loaded:"
   ]
  },
  {
   "cell_type": "code",
   "execution_count": null,
   "metadata": {},
   "outputs": [],
   "source": [
    "df.head()"
   ]
  },
  {
   "cell_type": "markdown",
   "metadata": {},
   "source": [
    "Here, we see a number of lake names, with accompanying data such as the lake area (presumably in square kilometers?), the maximum depth (missing for some lakes), Lat/Lon information, and so on. Remember that a `GeoDataFrame` can hold lots of different data, but it needs a column that specifies the geometry of a feature. Given that we only have point information (a single Lat/Lon coordinate) for each lake, it makes sense to create a `Point` object for each feature using that point. We can do this by first using the python built-in __zip__, then the __apply__ method of the `DataFrame` to create a point object from the list of coordinates."
   ]
  },
  {
   "cell_type": "code",
   "execution_count": null,
   "metadata": {},
   "outputs": [],
   "source": [
    "df['geometry'] = list(zip(df['lon'], df['lat'])) # zip is an iterator, so we use list to create \n",
    "                                                 # something that pandas can use.\n",
    "df['geometry'] = df['geometry'].apply(Point) # using the 'apply' method of the dataframe, \n",
    "                                             # turn the coordinates column\n",
    "                                             # into points (instead of a tuple of lat, lon coordinates).\n",
    "                                             # NB: Point takes (x, y) coordinates"
   ]
  },
  {
   "cell_type": "markdown",
   "metadata": {},
   "source": [
    "Let's look at the `DataFrame` again. We should have a `geometry` column, with the lat/lon coordinates for each feature:"
   ]
  },
  {
   "cell_type": "code",
   "execution_count": null,
   "metadata": {},
   "outputs": [],
   "source": [
    "df"
   ]
  },
  {
   "cell_type": "markdown",
   "metadata": {},
   "source": [
    "We could simply create a `GeoDataFrame` from this `DataFrame`, but let's first remove a few extra columns from the table, and change the units of the `area` column to be in square meters:"
   ]
  },
  {
   "cell_type": "code",
   "execution_count": null,
   "metadata": {},
   "outputs": [],
   "source": [
    "del df['lat'], df['lon'] # we don't really need these, since they're in the 'geometry' column now\n",
    "df['area'] # convert the area column to square meters here"
   ]
  },
  {
   "cell_type": "markdown",
   "metadata": {},
   "source": [
    "Great. Now we can create a new `GeoDataFrame` from the `DataFrame`. We'll also be sure to set the spatial reference information, so that our GIS software knows what reference frame our data use. For this, we'll use the EPSG code representing WGS84 Lat/Lon, 4326. EPSG codes are a concise way to refer to a given reference system - more information about them (and a comprehensive list of codes) can be found [here](http://spatialreference.org/)."
   ]
  },
  {
   "cell_type": "code",
   "execution_count": null,
   "metadata": {},
   "outputs": [],
   "source": [
    "gdf = gpd.GeoDataFrame(df)\n",
    "gdf.set_crs(\"EPSG:4326\", inplace=True) # this sets the coordinate reference system to epsg:4326, wgs84 lat/lon"
   ]
  },
  {
   "cell_type": "markdown",
   "metadata": {},
   "source": [
    "Let's take another look at the `GeoDataFrame`, then we'll write it to a shapefile and load it into ArcGIS. Note that it looks mostly the same as the `DataFrame` does - it really is just an extension of the `pandas` `DataFrame`. "
   ]
  },
  {
   "cell_type": "code",
   "execution_count": null,
   "metadata": {},
   "outputs": [],
   "source": [
    "print(gdf)\n",
    "gdf.to_file('lake_points.shp')"
   ]
  },
  {
   "cell_type": "markdown",
   "metadata": {},
   "source": [
    "Load your shapefile into a GIS software package such as ArcGIS Pro or QGIS - does everything look right? If not, go back through the steps and see if you can find where you went wrong. \n",
    "\n",
    "Can you make a map that looks like this one below in your GIS software of choice? Give it a try! \n",
    "\n",
    "By the end of the module, you should be able to put together a map like this using python.\n",
    "\n",
    "![](imgs/lake_map.png)\n",
    "\n",
    "Obviously, this is only a beginning, but hopefully you've gotten a taste for what we can do with python. Feel free to explore more, read through some documentation, and ask questions."
   ]
  }
 ],
 "metadata": {
  "kernelspec": {
   "display_name": "Python 3 (ipykernel)",
   "language": "python",
   "name": "python3"
  },
  "language_info": {
   "codemirror_mode": {
    "name": "ipython",
    "version": 3
   },
   "file_extension": ".py",
   "mimetype": "text/x-python",
   "name": "python",
   "nbconvert_exporter": "python",
   "pygments_lexer": "ipython3",
   "version": "3.11.0"
  }
 },
 "nbformat": 4,
 "nbformat_minor": 2
}
